{
 "cells": [
  {
   "cell_type": "code",
   "execution_count": null,
   "metadata": {},
   "outputs": [],
   "source": [
    "import numpy as np\n",
    "import pandas as pd\n",
    "import seaborn as sns\n",
    "from sklearn.preprocessing import MinMaxScaler\n",
    "from sklearn.preprocessing import StandardScaler\n",
    "from sklearn.metrics import accuracy_score, mean_squared_error, r2_score\n",
    "from scipy import stats\n",
    "from sklearn.tree import DecisionTreeClassifier\n",
    "from sklearn.ensemble import RandomForestClassifier\n",
    "from sklearn.neighbors import KNeighborsClassifier\n",
    "import xgboost as xgb\n",
    "from sklearn.linear_model import LinearRegression\n",
    "from sklearn.preprocessing import LabelEncoder, OneHotEncoder\n",
    "from sklearn.model_selection import train_test_split\n",
    "import matplotlib.pyplot as plt\n",
    "from sklearn.pipeline import Pipeline\n",
    "from sklearn.model_selection import cross_val_score, train_test_split\n",
    "\n",
    "# Ignore useless warnings\n",
    "import warnings\n",
    "warnings.filterwarnings(action=\"ignore\")\n",
    "%matplotlib inline\n",
    "pd.options.mode.chained_assignment = None\n",
    "pd.set_option('display.max_columns', 100)\n",
    "\n",
    "arquivo1 = 'data/apy.csv'\n",
    "arquivo2 = 'data/API_IND_DS2_en_csv_v2_200361.csv'\n",
    "\n",
    "data1 = pd.read_csv(arquivo1)              # Dados sobre a produção agricola na India\n",
    "data2 = pd.read_csv(arquivo2,skiprows=4)   # Dados do world bank da India\n"
   ]
  },
  {
   "cell_type": "markdown",
   "metadata": {},
   "source": [
    "# Após ler os datasets, manipular os dados e  gerar o dataset final"
   ]
  },
  {
   "cell_type": "code",
   "execution_count": null,
   "metadata": {},
   "outputs": [],
   "source": [
    "data1.shape"
   ]
  },
  {
   "cell_type": "code",
   "execution_count": null,
   "metadata": {},
   "outputs": [],
   "source": [
    "data1.columns"
   ]
  },
  {
   "cell_type": "code",
   "execution_count": null,
   "metadata": {},
   "outputs": [],
   "source": [
    "data1.columns = ['State_Name', 'District_Name', 'Year', 'Season', 'Crop', 'Area',\n",
    "       'Production']"
   ]
  },
  {
   "cell_type": "code",
   "execution_count": null,
   "metadata": {},
   "outputs": [],
   "source": [
    "data1.columns"
   ]
  },
  {
   "cell_type": "code",
   "execution_count": null,
   "metadata": {},
   "outputs": [],
   "source": [
    "data2.columns"
   ]
  },
  {
   "cell_type": "code",
   "execution_count": null,
   "metadata": {},
   "outputs": [],
   "source": [
    "# Serão usados apenas algumas colunas do dataset original\n",
    "data2= data2[['Indicator Name','1997','1998','1999','2000','2001',\n",
    "              '2002','2003','2004','2005','2006','2007','2008','2009',\n",
    "              '2010','2011','2012','2013','2014','2015']]"
   ]
  },
  {
   "cell_type": "code",
   "execution_count": null,
   "metadata": {},
   "outputs": [],
   "source": [
    "# Apenas o indicator GDP será selecionado\n",
    "data2_GDP = data2[data2['Indicator Name']== 'GDP (current US$)']"
   ]
  },
  {
   "cell_type": "code",
   "execution_count": null,
   "metadata": {},
   "outputs": [],
   "source": [
    "# Linhas são transformadas em colunas\n",
    "data2_GDP_tr= data2_GDP.transpose()"
   ]
  },
  {
   "cell_type": "code",
   "execution_count": null,
   "metadata": {},
   "outputs": [],
   "source": [
    "data2_GDP_tr.to_csv('data/data2_GDP_tr.csv') "
   ]
  },
  {
   "cell_type": "code",
   "execution_count": null,
   "metadata": {},
   "outputs": [],
   "source": [
    "# Removendo o index\n",
    "temp = 'data/data2_GDP_tr.csv'\n",
    "data2 = pd.read_csv(temp,skiprows=1)"
   ]
  },
  {
   "cell_type": "code",
   "execution_count": null,
   "metadata": {},
   "outputs": [],
   "source": [
    "# Renomeando as colunas de data2\n",
    "data2.columns = ['Year','GDP (current US$)']"
   ]
  },
  {
   "cell_type": "code",
   "execution_count": null,
   "metadata": {},
   "outputs": [],
   "source": [
    "data2.head()"
   ]
  },
  {
   "cell_type": "code",
   "execution_count": null,
   "metadata": {},
   "outputs": [],
   "source": [
    "data1.columns"
   ]
  },
  {
   "cell_type": "code",
   "execution_count": null,
   "metadata": {},
   "outputs": [],
   "source": [
    "data2.columns"
   ]
  },
  {
   "cell_type": "code",
   "execution_count": null,
   "metadata": {},
   "outputs": [],
   "source": [
    "# \n",
    "df = pd.merge(data2, data1, on=[\"Year\"])\n"
   ]
  },
  {
   "cell_type": "code",
   "execution_count": null,
   "metadata": {},
   "outputs": [],
   "source": [
    "df.head()"
   ]
  },
  {
   "cell_type": "code",
   "execution_count": null,
   "metadata": {},
   "outputs": [],
   "source": [
    "# Dataset final\n",
    "#df.to_csv('data/india_crop_gdp_1997_2015.csv') "
   ]
  },
  {
   "cell_type": "markdown",
   "metadata": {},
   "source": [
    "# Algoritmo 1:  \n",
    "# Objetivo: descobrir a CROP (Cultivo). \n",
    "# A partir de 3 dados aleatórios (AREA, STATE, DISTRICT) inseridos pelo usuário, seja calculado o resultado de CROP"
   ]
  },
  {
   "cell_type": "code",
   "execution_count": null,
   "metadata": {},
   "outputs": [],
   "source": [
    "df = pd.read_csv(\"data/india_crop_gdp_1997_2015.csv\")"
   ]
  },
  {
   "cell_type": "code",
   "execution_count": null,
   "metadata": {},
   "outputs": [],
   "source": [
    "df.head()"
   ]
  },
  {
   "cell_type": "code",
   "execution_count": null,
   "metadata": {},
   "outputs": [],
   "source": [
    "# Serão usados apenas algumas colunas do dataset original\n",
    "df1 = df [['Area','State_Name','District_Name','Crop']]"
   ]
  },
  {
   "cell_type": "code",
   "execution_count": null,
   "metadata": {},
   "outputs": [],
   "source": [
    "df1.head()"
   ]
  },
  {
   "cell_type": "code",
   "execution_count": null,
   "metadata": {},
   "outputs": [],
   "source": [
    "# Outliers em Area\n",
    "#sns.boxplot(x=df1['Area'])"
   ]
  },
  {
   "cell_type": "code",
   "execution_count": null,
   "metadata": {},
   "outputs": [],
   "source": [
    "# Z score indica o quanto os dados estã afastados da média dos dados\n",
    "\n",
    "z = np.abs(stats.zscore(df1.Area))\n",
    "\n",
    "# Dados acima de 3 z scores são considerados outliers\n",
    "df1_o = df1[(z < 2.5)]\n"
   ]
  },
  {
   "cell_type": "code",
   "execution_count": null,
   "metadata": {},
   "outputs": [],
   "source": [
    "# Tamanho original do dataset\n",
    "df1.shape"
   ]
  },
  {
   "cell_type": "code",
   "execution_count": null,
   "metadata": {},
   "outputs": [],
   "source": [
    "# Tamanho depois de retirados os outliers\n",
    "df1_o.shape"
   ]
  },
  {
   "cell_type": "code",
   "execution_count": null,
   "metadata": {},
   "outputs": [],
   "source": [
    "#sns.boxplot(x=df1_o['Area'])"
   ]
  },
  {
   "cell_type": "code",
   "execution_count": null,
   "metadata": {},
   "outputs": [],
   "source": [
    "df1 = df1_o"
   ]
  },
  {
   "cell_type": "code",
   "execution_count": null,
   "metadata": {},
   "outputs": [],
   "source": [
    "# Frequencia de distribuição das classes \n",
    "Crop_classe = pd.crosstab(index=df1[\"Crop\"],columns=\"count\")  \n",
    "Crop_classe.columns = [\"Frequencia\"]\n",
    "Crop_classe.head()"
   ]
  },
  {
   "cell_type": "markdown",
   "metadata": {},
   "source": [
    "# São mais de 120 classes e estão desbalanceadas no dataset"
   ]
  },
  {
   "cell_type": "code",
   "execution_count": null,
   "metadata": {},
   "outputs": [],
   "source": [
    "#df1['Crop'].value_counts().plot(kind='bar', figsize=(6,6))\n",
    "#plt.title('Classe Crop')\n",
    "#plt.xlabel('Classe')\n",
    "#plt.ylabel('Frequencia')\n",
    "#plt.show()"
   ]
  },
  {
   "cell_type": "code",
   "execution_count": null,
   "metadata": {},
   "outputs": [],
   "source": [
    "# df11 recebe todos atributos de df1\n",
    "df11 = df1 \n",
    "df1.info()"
   ]
  },
  {
   "cell_type": "code",
   "execution_count": null,
   "metadata": {},
   "outputs": [],
   "source": [
    "# df1 remove a variável classe Crop\n",
    "label_df = df1['Crop']\n",
    "df1.drop('Crop', axis = 1, inplace=True)\n",
    "df1.head()"
   ]
  },
  {
   "cell_type": "code",
   "execution_count": null,
   "metadata": {},
   "outputs": [],
   "source": [
    "label_df"
   ]
  },
  {
   "cell_type": "code",
   "execution_count": null,
   "metadata": {},
   "outputs": [],
   "source": [
    "# Atributos strings mudam para numérico\n",
    "\n",
    "le = LabelEncoder()\n",
    "\n",
    "df1['State_Name'] = le.fit_transform(df1['State_Name']) # State_Name\n",
    "df1['District_Name'] = le.fit_transform(df1['District_Name']) # District_Name\n",
    "label_df = le.fit_transform(label_df) # Crop\n"
   ]
  },
  {
   "cell_type": "code",
   "execution_count": null,
   "metadata": {},
   "outputs": [],
   "source": [
    "# OnehotEncoder ira transformar os valores em arrays para evitar influencia de valores altos\n",
    "onehotencoder = OneHotEncoder(categorical_features = [1,2])\n",
    "df1 = onehotencoder.fit_transform(df1).toarray()"
   ]
  },
  {
   "cell_type": "code",
   "execution_count": null,
   "metadata": {},
   "outputs": [],
   "source": [
    "\n",
    "pl_random_forest = Pipeline(steps=[('random_forest', RandomForestClassifier())])\n",
    "\n",
    "scores = cross_val_score(pl_random_forest, df1, label_df, cv=10,scoring='accuracy')\n",
    "\n",
    "print('Accuracy for RandomForest : ', scores.mean())\n",
    "# Accuracy for RandomForest :  0.2568389205158886\n"
   ]
  },
  {
   "cell_type": "code",
   "execution_count": null,
   "metadata": {},
   "outputs": [],
   "source": [
    "pl_xgb = Pipeline(steps=\n",
    "\n",
    "                  [('xgboost', xgb.XGBClassifier(objective='multi:softmax'))])\n",
    "\n",
    "scores = cross_val_score(pl_xgb, df1, label_df, cv=10)\n",
    "\n",
    "print('Accuracy for XGBoost Classifier : ', scores.mean())"
   ]
  },
  {
   "cell_type": "code",
   "execution_count": null,
   "metadata": {},
   "outputs": [],
   "source": [
    "# Atributos previsores e classe\n",
    "previsores = df11.iloc[:, 0:3].values\n",
    "classe = df11.iloc[:, 3].values\n",
    "\n"
   ]
  },
  {
   "cell_type": "code",
   "execution_count": null,
   "metadata": {},
   "outputs": [],
   "source": [
    "# Aplicando a mesma escala nos dados\n",
    "# Normalizando\n",
    "previsores = MinMaxScaler().fit_transform(previsores)\n",
    "\n",
    "# Padronizando os dados (0 para a média, 1 para o desvio padrão)\n",
    "previsores = StandardScaler().fit_transform(previsores)\n",
    "\n",
    "\n",
    "# Divisão em treino e teste\n",
    "previsores_treinamento, previsores_teste, classe_treinamento, classe_teste = train_test_split(previsores, classe, test_size=0.3, random_state=0)\n"
   ]
  },
  {
   "cell_type": "code",
   "execution_count": null,
   "metadata": {},
   "outputs": [],
   "source": [
    "# Criar o modelo, treinar e avaliar\n",
    "\n",
    "\n",
    "#classificador = RandomForestClassifier(n_estimators=100, criterion='entropy', random_state=123)\n",
    "#classificador = DecisionTreeClassifier(criterion='entropy', random_state=123)\n",
    "classificador= KNeighborsClassifier(n_neighbors = 5)\n",
    "\n",
    "# Treinamento\n",
    "classificador.fit(previsores_treinamento, classe_treinamento)\n",
    "\n",
    "# Previsao\n",
    "previsoes = classificador.predict(previsores_teste)\n",
    "\n",
    "# Avaliar a acurácia\n",
    "acurácia = accuracy_score(classe_teste, previsoes)\n",
    "\n",
    "print('Acurácia:', acurácia)\n",
    "# Acurácia: 0.2667527898411302\n"
   ]
  },
  {
   "cell_type": "code",
   "execution_count": null,
   "metadata": {},
   "outputs": [],
   "source": [
    "# Previsoes feitas com o modelo gerado\n",
    "#le.inverse_transform(previsoes)"
   ]
  },
  {
   "cell_type": "markdown",
   "metadata": {},
   "source": [
    "# Algoritmo 2: \n",
    "# Objetivo: descobrir a PRODUCTION (Produção agrícola de um cultivo). A partir de 3 dados aleatórios (AREA, CROP e GDP) inseridos pelo usuário, seja calculado o resultado de PRODUCTION"
   ]
  },
  {
   "cell_type": "code",
   "execution_count": null,
   "metadata": {},
   "outputs": [],
   "source": [
    "df = pd.read_csv(\"data/india_crop_gdp_1997_2015.csv\")"
   ]
  },
  {
   "cell_type": "code",
   "execution_count": null,
   "metadata": {},
   "outputs": [],
   "source": [
    "# Dados disponíveis\n",
    "df.head(3)"
   ]
  },
  {
   "cell_type": "code",
   "execution_count": null,
   "metadata": {},
   "outputs": [],
   "source": [
    "# Na coluna Production há um sinal de '=' em 3000 linhas, 1% do total. Essas linhas serão removidas do dataset.\n",
    "\n",
    "df.loc[df.Production == '=', 'Production'] = np.nan\n",
    "df = df.dropna()\n",
    "df.Production = df.Production.astype(float)"
   ]
  },
  {
   "cell_type": "code",
   "execution_count": null,
   "metadata": {},
   "outputs": [],
   "source": [
    "# De string para numérico\n",
    "df.Crop = le.fit_transform(df.Crop) "
   ]
  },
  {
   "cell_type": "code",
   "execution_count": null,
   "metadata": {},
   "outputs": [],
   "source": [
    "# Serão usados apenas algumas colunas do dataset original\n",
    "df['GDP'] = df.iloc[:,1] # Renomeando a coluna\n",
    "df1 = df [['Area','Crop','GDP','Production']]"
   ]
  },
  {
   "cell_type": "code",
   "execution_count": null,
   "metadata": {},
   "outputs": [],
   "source": [
    "# Detectando Outliers em Area\n",
    "#sns.boxplot(x=df1['Area'])"
   ]
  },
  {
   "cell_type": "code",
   "execution_count": null,
   "metadata": {},
   "outputs": [],
   "source": [
    "# Z score indica o quanto os dados estã afastados da média dos dados\n",
    "\n",
    "z = np.abs(stats.zscore(df1.Area))\n",
    "\n",
    "\n",
    "# Dados acima de 3 z scores são considerados outliers\n",
    "df1_o = df1[(z < 2.5)]"
   ]
  },
  {
   "cell_type": "code",
   "execution_count": null,
   "metadata": {},
   "outputs": [],
   "source": [
    "# Z score indica o quanto os dados estã afastados da média dos dados\n",
    "\n",
    "z = np.abs(stats.zscore(df1_o.GDP))\n",
    "\n",
    "# Dados acima de 3 z scores são considerados outliers\n",
    "df1_o = df1_o[(z < 2.5)]"
   ]
  },
  {
   "cell_type": "code",
   "execution_count": null,
   "metadata": {},
   "outputs": [],
   "source": [
    "# Z score indica o quanto os dados estã afastados da média dos dados\n",
    "\n",
    "z = np.abs(stats.zscore(df1_o.Production))\n",
    "\n",
    "# Dados acima de 3 z scores são considerados outliers\n",
    "df1_o = df1_o[(z < 2.5)]"
   ]
  },
  {
   "cell_type": "code",
   "execution_count": null,
   "metadata": {},
   "outputs": [],
   "source": [
    "df = df1_o"
   ]
  },
  {
   "cell_type": "code",
   "execution_count": null,
   "metadata": {},
   "outputs": [],
   "source": [
    "df"
   ]
  },
  {
   "cell_type": "code",
   "execution_count": null,
   "metadata": {},
   "outputs": [],
   "source": [
    "# Criar o modelo e treinar\n",
    "\n",
    "param = {\n",
    "    'objective': 'reg:linear', \n",
    "    \"booster\" : \"gbtree\",\n",
    "    'eta': 0.03,\n",
    "    'max_depth':10,\n",
    "    'subsample':0.9,\n",
    "    'colsample_bytree':0.7,\n",
    "    #'eval_metric': 'mae',\n",
    "    'silent' : 1  \n",
    "}\n",
    "\n",
    "features = ['Area', 'Crop', 'GDP']\n",
    "\n",
    "X_train, X_test, y_train, y_test = train_test_split(df[features], np.log1p(df['Production']), \n",
    "                                                    test_size = 0.3, random_state = 42)\n",
    "\n",
    "dtrain = xgb.DMatrix(X_train, y_train)\n",
    "dvalid = xgb.DMatrix(X_test, y_test)\n",
    "\n",
    "watchlist = [(dtrain, 'train'), (dvalid, 'eval')]\n",
    "\n",
    "\n",
    "\n"
   ]
  },
  {
   "cell_type": "code",
   "execution_count": null,
   "metadata": {},
   "outputs": [],
   "source": [
    "gbm = xgb.train(\n",
    "            param, \n",
    "            dtrain, \n",
    "            1000,\n",
    "            evals=watchlist,\n",
    "            early_stopping_rounds=100, \n",
    "            verbose_eval=100\n",
    ")"
   ]
  },
  {
   "cell_type": "code",
   "execution_count": null,
   "metadata": {},
   "outputs": [],
   "source": [
    "predicted = gbm.predict(xgb.DMatrix(X_test))"
   ]
  },
  {
   "cell_type": "code",
   "execution_count": null,
   "metadata": {},
   "outputs": [],
   "source": [
    "# Resultado - Quanto menor melhor a previsão\n",
    "mse = mean_squared_error(y_test, predicted)\n",
    "print(\"MSE do modelo é: \", mse)"
   ]
  },
  {
   "cell_type": "code",
   "execution_count": null,
   "metadata": {},
   "outputs": [],
   "source": [
    "# Resultado - Coeficiente de Determinação, quanto mais próximo de 1 melhor\n",
    "r2 = r2_score(y_test, predicted)\n",
    "print(\"R2 do modelo é: \", r2)"
   ]
  },
  {
   "cell_type": "code",
   "execution_count": null,
   "metadata": {},
   "outputs": [],
   "source": [
    "print('Valor previsto:', np.expm1(predicted[2]))"
   ]
  },
  {
   "cell_type": "code",
   "execution_count": null,
   "metadata": {},
   "outputs": [],
   "source": [
    "print('Valor de teste:', np.expm1(y_test.values[2]))"
   ]
  },
  {
   "cell_type": "code",
   "execution_count": null,
   "metadata": {},
   "outputs": [],
   "source": []
  },
  {
   "cell_type": "code",
   "execution_count": null,
   "metadata": {},
   "outputs": [],
   "source": []
  }
 ],
 "metadata": {
  "kernelspec": {
   "display_name": "Python 3",
   "language": "python",
   "name": "python3"
  },
  "language_info": {
   "codemirror_mode": {
    "name": "ipython",
    "version": 3
   },
   "file_extension": ".py",
   "mimetype": "text/x-python",
   "name": "python",
   "nbconvert_exporter": "python",
   "pygments_lexer": "ipython3",
   "version": "3.7.3"
  }
 },
 "nbformat": 4,
 "nbformat_minor": 2
}
